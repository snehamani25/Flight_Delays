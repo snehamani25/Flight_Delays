{
 "cells": [
  {
   "cell_type": "code",
   "execution_count": 35,
   "metadata": {
    "collapsed": false
   },
   "outputs": [],
   "source": [
    "import statsmodels.formula.api as smf\n"
   ]
  },
  {
   "cell_type": "code",
   "execution_count": 20,
   "metadata": {
    "collapsed": true
   },
   "outputs": [],
   "source": [
    "import numpy as np"
   ]
  },
  {
   "cell_type": "code",
   "execution_count": 21,
   "metadata": {
    "collapsed": true
   },
   "outputs": [],
   "source": [
    "import pandas as pd\n",
    "from sklearn.model_selection import train_test_split\n",
    "#from patsy import dmatrices\n",
    "import matplotlib.pyplot as plt\n",
    "%matplotlib inline"
   ]
  },
  {
   "cell_type": "code",
   "execution_count": 40,
   "metadata": {
    "collapsed": false
   },
   "outputs": [
    {
     "data": {
      "text/html": [
       "<div>\n",
       "<table border=\"1\" class=\"dataframe\">\n",
       "  <thead>\n",
       "    <tr style=\"text-align: right;\">\n",
       "      <th></th>\n",
       "      <th>YEAR</th>\n",
       "      <th>MONTH</th>\n",
       "      <th>Month_Name</th>\n",
       "      <th>Day_WORD</th>\n",
       "      <th>Airline Name</th>\n",
       "      <th>Origin_City</th>\n",
       "      <th>Destination_City</th>\n",
       "      <th>DAY</th>\n",
       "      <th>DAY_OF_WEEK</th>\n",
       "      <th>DayType</th>\n",
       "      <th>...</th>\n",
       "      <th>ARRIVAL_TIME</th>\n",
       "      <th>ARRIVAL_DELAY</th>\n",
       "      <th>DIVERTED</th>\n",
       "      <th>CANCELLED</th>\n",
       "      <th>CANCELLATION_REASON</th>\n",
       "      <th>AIR_SYSTEM_DELAY</th>\n",
       "      <th>SECURITY_DELAY</th>\n",
       "      <th>AIRLINE_DELAY</th>\n",
       "      <th>LATE_AIRCRAFT_DELAY</th>\n",
       "      <th>WEATHER_DELAY</th>\n",
       "    </tr>\n",
       "  </thead>\n",
       "  <tbody>\n",
       "    <tr>\n",
       "      <th>0</th>\n",
       "      <td>2015</td>\n",
       "      <td>1</td>\n",
       "      <td>January</td>\n",
       "      <td>Monday</td>\n",
       "      <td>American Airlines Inc.</td>\n",
       "      <td>Chicago</td>\n",
       "      <td>Dallas-Fort Worth</td>\n",
       "      <td>26</td>\n",
       "      <td>1</td>\n",
       "      <td>WD</td>\n",
       "      <td>...</td>\n",
       "      <td>1645</td>\n",
       "      <td>45</td>\n",
       "      <td>0</td>\n",
       "      <td>0</td>\n",
       "      <td>NaN</td>\n",
       "      <td>0</td>\n",
       "      <td>0</td>\n",
       "      <td>0</td>\n",
       "      <td>25</td>\n",
       "      <td>20</td>\n",
       "    </tr>\n",
       "    <tr>\n",
       "      <th>1</th>\n",
       "      <td>2015</td>\n",
       "      <td>1</td>\n",
       "      <td>January</td>\n",
       "      <td>Monday</td>\n",
       "      <td>American Airlines Inc.</td>\n",
       "      <td>Chicago</td>\n",
       "      <td>Tampa</td>\n",
       "      <td>12</td>\n",
       "      <td>1</td>\n",
       "      <td>WD</td>\n",
       "      <td>...</td>\n",
       "      <td>2222</td>\n",
       "      <td>45</td>\n",
       "      <td>0</td>\n",
       "      <td>0</td>\n",
       "      <td>NaN</td>\n",
       "      <td>10</td>\n",
       "      <td>0</td>\n",
       "      <td>0</td>\n",
       "      <td>32</td>\n",
       "      <td>3</td>\n",
       "    </tr>\n",
       "    <tr>\n",
       "      <th>2</th>\n",
       "      <td>2015</td>\n",
       "      <td>1</td>\n",
       "      <td>January</td>\n",
       "      <td>Monday</td>\n",
       "      <td>American Airlines Inc.</td>\n",
       "      <td>Chicago</td>\n",
       "      <td>West Palm Beach</td>\n",
       "      <td>12</td>\n",
       "      <td>1</td>\n",
       "      <td>WD</td>\n",
       "      <td>...</td>\n",
       "      <td>2340</td>\n",
       "      <td>45</td>\n",
       "      <td>0</td>\n",
       "      <td>0</td>\n",
       "      <td>NaN</td>\n",
       "      <td>3</td>\n",
       "      <td>0</td>\n",
       "      <td>0</td>\n",
       "      <td>42</td>\n",
       "      <td>0</td>\n",
       "    </tr>\n",
       "    <tr>\n",
       "      <th>3</th>\n",
       "      <td>2015</td>\n",
       "      <td>1</td>\n",
       "      <td>January</td>\n",
       "      <td>Monday</td>\n",
       "      <td>American Airlines Inc.</td>\n",
       "      <td>Detroit</td>\n",
       "      <td>Phoenix</td>\n",
       "      <td>12</td>\n",
       "      <td>1</td>\n",
       "      <td>WD</td>\n",
       "      <td>...</td>\n",
       "      <td>1422</td>\n",
       "      <td>46</td>\n",
       "      <td>0</td>\n",
       "      <td>0</td>\n",
       "      <td>NaN</td>\n",
       "      <td>20</td>\n",
       "      <td>0</td>\n",
       "      <td>26</td>\n",
       "      <td>0</td>\n",
       "      <td>0</td>\n",
       "    </tr>\n",
       "    <tr>\n",
       "      <th>4</th>\n",
       "      <td>2015</td>\n",
       "      <td>1</td>\n",
       "      <td>January</td>\n",
       "      <td>Monday</td>\n",
       "      <td>American Airlines Inc.</td>\n",
       "      <td>Chicago</td>\n",
       "      <td>Orlando</td>\n",
       "      <td>12</td>\n",
       "      <td>1</td>\n",
       "      <td>WD</td>\n",
       "      <td>...</td>\n",
       "      <td>1512</td>\n",
       "      <td>46</td>\n",
       "      <td>0</td>\n",
       "      <td>0</td>\n",
       "      <td>NaN</td>\n",
       "      <td>46</td>\n",
       "      <td>0</td>\n",
       "      <td>0</td>\n",
       "      <td>0</td>\n",
       "      <td>0</td>\n",
       "    </tr>\n",
       "  </tbody>\n",
       "</table>\n",
       "<p>5 rows × 43 columns</p>\n",
       "</div>"
      ],
      "text/plain": [
       "   YEAR  MONTH Month_Name Day_WORD            Airline Name Origin_City  \\\n",
       "0  2015      1    January   Monday  American Airlines Inc.     Chicago   \n",
       "1  2015      1    January   Monday  American Airlines Inc.     Chicago   \n",
       "2  2015      1    January   Monday  American Airlines Inc.     Chicago   \n",
       "3  2015      1    January   Monday  American Airlines Inc.     Detroit   \n",
       "4  2015      1    January   Monday  American Airlines Inc.     Chicago   \n",
       "\n",
       "    Destination_City  DAY  DAY_OF_WEEK DayType      ...       ARRIVAL_TIME  \\\n",
       "0  Dallas-Fort Worth   26            1      WD      ...               1645   \n",
       "1              Tampa   12            1      WD      ...               2222   \n",
       "2    West Palm Beach   12            1      WD      ...               2340   \n",
       "3            Phoenix   12            1      WD      ...               1422   \n",
       "4            Orlando   12            1      WD      ...               1512   \n",
       "\n",
       "  ARRIVAL_DELAY  DIVERTED  CANCELLED CANCELLATION_REASON AIR_SYSTEM_DELAY  \\\n",
       "0            45         0          0                 NaN                0   \n",
       "1            45         0          0                 NaN               10   \n",
       "2            45         0          0                 NaN                3   \n",
       "3            46         0          0                 NaN               20   \n",
       "4            46         0          0                 NaN               46   \n",
       "\n",
       "  SECURITY_DELAY  AIRLINE_DELAY LATE_AIRCRAFT_DELAY WEATHER_DELAY  \n",
       "0              0              0                  25            20  \n",
       "1              0              0                  32             3  \n",
       "2              0              0                  42             0  \n",
       "3              0             26                   0             0  \n",
       "4              0              0                   0             0  \n",
       "\n",
       "[5 rows x 43 columns]"
      ]
     },
     "execution_count": 40,
     "metadata": {},
     "output_type": "execute_result"
    }
   ],
   "source": [
    "df = pd.read_csv(\"Data Set - Arrival Delay 45 Revised v1.csv\")\n",
    "#df = pd.read_csv(\"Data_Set_Flights.csv\")\n",
    "df.head()"
   ]
  },
  {
   "cell_type": "code",
   "execution_count": 41,
   "metadata": {
    "collapsed": false
   },
   "outputs": [
    {
     "name": "stdout",
     "output_type": "stream",
     "text": [
      "100.13971727753623\n"
     ]
    }
   ],
   "source": [
    "print(df['DEPARTURE_DELAY'].mean())"
   ]
  },
  {
   "cell_type": "code",
   "execution_count": 45,
   "metadata": {
    "collapsed": false
   },
   "outputs": [
    {
     "data": {
      "text/plain": [
       "Intercept                         -4.356244\n",
       "C(Airline_Type)[T.1]               4.345964\n",
       "C(DayType)[T.WE]                  -0.658246\n",
       "C(ORIGIN_REGION_CODE)[T.2]         3.586339\n",
       "C(ORIGIN_REGION_CODE)[T.3]         2.103952\n",
       "C(ORIGIN_REGION_CODE)[T.4]         0.205305\n",
       "C(DESTINATION_REGION_CODE)[T.2]    3.452032\n",
       "C(DESTINATION_REGION_CODE)[T.3]    2.923555\n",
       "C(DESTINATION_REGION_CODE)[T.4]   -2.596522\n",
       "DEPARTURE_DELAY                    0.918659\n",
       "ELAPSED_TIME                       0.087253\n",
       "dtype: float64"
      ]
     },
     "execution_count": 45,
     "metadata": {},
     "output_type": "execute_result"
    }
   ],
   "source": [
    "\n",
    "lm = smf.ols(formula='ARRIVAL_DELAY~DEPARTURE_DELAY+C(Airline_Type)+C(DayType)+C(ORIGIN_REGION_CODE)+C(DESTINATION_REGION_CODE)+ELAPSED_TIME', data=df).fit()\n",
    "# print the coefficients\n",
    "lm.params"
   ]
  },
  {
   "cell_type": "code",
   "execution_count": 25,
   "metadata": {
    "collapsed": false
   },
   "outputs": [],
   "source": [
    "lm = smf.ols(formula='ARRIVAL_DELAY~DEPARTURE_DELAY', data= df).fit()"
   ]
  },
  {
   "cell_type": "code",
   "execution_count": 46,
   "metadata": {
    "collapsed": false,
    "scrolled": false
   },
   "outputs": [
    {
     "name": "stdout",
     "output_type": "stream",
     "text": [
      "                            OLS Regression Results                            \n",
      "==============================================================================\n",
      "Dep. Variable:          ARRIVAL_DELAY   R-squared:                       0.926\n",
      "Model:                            OLS   Adj. R-squared:                  0.926\n",
      "Method:                 Least Squares   F-statistic:                 5.341e+05\n",
      "Date:                Fri, 13 Apr 2018   Prob (F-statistic):               0.00\n",
      "Time:                        21:50:29   Log-Likelihood:            -1.8997e+06\n",
      "No. Observations:              424586   AIC:                         3.799e+06\n",
      "Df Residuals:                  424575   BIC:                         3.799e+06\n",
      "Df Model:                          10                                         \n",
      "Covariance Type:            nonrobust                                         \n",
      "===================================================================================================\n",
      "                                      coef    std err          t      P>|t|      [95.0% Conf. Int.]\n",
      "---------------------------------------------------------------------------------------------------\n",
      "Intercept                          -4.3562      0.161    -27.080      0.000        -4.672    -4.041\n",
      "C(Airline_Type)[T.1]                4.3460      0.071     60.959      0.000         4.206     4.486\n",
      "C(DayType)[T.WE]                   -0.6582      0.067     -9.787      0.000        -0.790    -0.526\n",
      "C(ORIGIN_REGION_CODE)[T.2]          3.5863      0.120     29.963      0.000         3.352     3.821\n",
      "C(ORIGIN_REGION_CODE)[T.3]          2.1040      0.106     19.837      0.000         1.896     2.312\n",
      "C(ORIGIN_REGION_CODE)[T.4]          0.2053      0.120      1.714      0.086        -0.029     0.440\n",
      "C(DESTINATION_REGION_CODE)[T.2]     3.4520      0.116     29.832      0.000         3.225     3.679\n",
      "C(DESTINATION_REGION_CODE)[T.3]     2.9236      0.101     28.868      0.000         2.725     3.122\n",
      "C(DESTINATION_REGION_CODE)[T.4]    -2.5965      0.114    -22.785      0.000        -2.820    -2.373\n",
      "DEPARTURE_DELAY                     0.9187      0.000   2307.517      0.000         0.918     0.919\n",
      "ELAPSED_TIME                        0.0873      0.000    194.111      0.000         0.086     0.088\n",
      "==============================================================================\n",
      "Omnibus:                   121414.504   Durbin-Watson:                   1.681\n",
      "Prob(Omnibus):                  0.000   Jarque-Bera (JB):           469440.327\n",
      "Skew:                           1.389   Prob(JB):                         0.00\n",
      "Kurtosis:                       7.338   Cond. No.                     1.32e+03\n",
      "==============================================================================\n",
      "\n",
      "Warnings:\n",
      "[1] Standard Errors assume that the covariance matrix of the errors is correctly specified.\n",
      "[2] The condition number is large, 1.32e+03. This might indicate that there are\n",
      "strong multicollinearity or other numerical problems.\n"
     ]
    }
   ],
   "source": [
    "print(lm.summary())"
   ]
  },
  {
   "cell_type": "code",
   "execution_count": 14,
   "metadata": {
    "collapsed": false
   },
   "outputs": [
    {
     "data": {
      "text/html": [
       "<table class=\"simpletable\">\n",
       "<caption>OLS Regression Results</caption>\n",
       "<tr>\n",
       "  <th>Dep. Variable:</th>      <td>ARRIVAL_DELAY</td>  <th>  R-squared:         </th>  <td>   0.919</td>  \n",
       "</tr>\n",
       "<tr>\n",
       "  <th>Model:</th>                   <td>OLS</td>       <th>  Adj. R-squared:    </th>  <td>   0.919</td>  \n",
       "</tr>\n",
       "<tr>\n",
       "  <th>Method:</th>             <td>Least Squares</td>  <th>  F-statistic:       </th>  <td>4.804e+06</td> \n",
       "</tr>\n",
       "<tr>\n",
       "  <th>Date:</th>             <td>Fri, 13 Apr 2018</td> <th>  Prob (F-statistic):</th>   <td>  0.00</td>   \n",
       "</tr>\n",
       "<tr>\n",
       "  <th>Time:</th>                 <td>21:04:36</td>     <th>  Log-Likelihood:    </th> <td>-1.9204e+06</td>\n",
       "</tr>\n",
       "<tr>\n",
       "  <th>No. Observations:</th>      <td>424586</td>      <th>  AIC:               </th>  <td>3.841e+06</td> \n",
       "</tr>\n",
       "<tr>\n",
       "  <th>Df Residuals:</th>          <td>424584</td>      <th>  BIC:               </th>  <td>3.841e+06</td> \n",
       "</tr>\n",
       "<tr>\n",
       "  <th>Df Model:</th>              <td>     1</td>      <th>                     </th>      <td> </td>     \n",
       "</tr>\n",
       "<tr>\n",
       "  <th>Covariance Type:</th>      <td>nonrobust</td>    <th>                     </th>      <td> </td>     \n",
       "</tr>\n",
       "</table>\n",
       "<table class=\"simpletable\">\n",
       "<tr>\n",
       "         <td></td>            <th>coef</th>     <th>std err</th>      <th>t</th>      <th>P>|t|</th> <th>[95.0% Conf. Int.]</th> \n",
       "</tr>\n",
       "<tr>\n",
       "  <th>Intercept</th>       <td>   12.6113</td> <td>    0.054</td> <td>  233.538</td> <td> 0.000</td> <td>   12.505    12.717</td>\n",
       "</tr>\n",
       "<tr>\n",
       "  <th>DEPARTURE_DELAY</th> <td>    0.9146</td> <td>    0.000</td> <td> 2191.831</td> <td> 0.000</td> <td>    0.914     0.915</td>\n",
       "</tr>\n",
       "</table>\n",
       "<table class=\"simpletable\">\n",
       "<tr>\n",
       "  <th>Omnibus:</th>       <td>161547.101</td> <th>  Durbin-Watson:     </th>  <td>   1.679</td> \n",
       "</tr>\n",
       "<tr>\n",
       "  <th>Prob(Omnibus):</th>   <td> 0.000</td>   <th>  Jarque-Bera (JB):  </th> <td>762638.952</td>\n",
       "</tr>\n",
       "<tr>\n",
       "  <th>Skew:</th>            <td> 1.816</td>   <th>  Prob(JB):          </th>  <td>    0.00</td> \n",
       "</tr>\n",
       "<tr>\n",
       "  <th>Kurtosis:</th>        <td> 8.470</td>   <th>  Cond. No.          </th>  <td>    204.</td> \n",
       "</tr>\n",
       "</table>"
      ],
      "text/plain": [
       "<class 'statsmodels.iolib.summary.Summary'>\n",
       "\"\"\"\n",
       "                            OLS Regression Results                            \n",
       "==============================================================================\n",
       "Dep. Variable:          ARRIVAL_DELAY   R-squared:                       0.919\n",
       "Model:                            OLS   Adj. R-squared:                  0.919\n",
       "Method:                 Least Squares   F-statistic:                 4.804e+06\n",
       "Date:                Fri, 13 Apr 2018   Prob (F-statistic):               0.00\n",
       "Time:                        21:04:36   Log-Likelihood:            -1.9204e+06\n",
       "No. Observations:              424586   AIC:                         3.841e+06\n",
       "Df Residuals:                  424584   BIC:                         3.841e+06\n",
       "Df Model:                           1                                         \n",
       "Covariance Type:            nonrobust                                         \n",
       "===================================================================================\n",
       "                      coef    std err          t      P>|t|      [95.0% Conf. Int.]\n",
       "-----------------------------------------------------------------------------------\n",
       "Intercept          12.6113      0.054    233.538      0.000        12.505    12.717\n",
       "DEPARTURE_DELAY     0.9146      0.000   2191.831      0.000         0.914     0.915\n",
       "==============================================================================\n",
       "Omnibus:                   161547.101   Durbin-Watson:                   1.679\n",
       "Prob(Omnibus):                  0.000   Jarque-Bera (JB):           762638.952\n",
       "Skew:                           1.816   Prob(JB):                         0.00\n",
       "Kurtosis:                       8.470   Cond. No.                         204.\n",
       "==============================================================================\n",
       "\n",
       "Warnings:\n",
       "[1] Standard Errors assume that the covariance matrix of the errors is correctly specified.\n",
       "\"\"\""
      ]
     },
     "execution_count": 14,
     "metadata": {},
     "output_type": "execute_result"
    }
   ],
   "source": [
    "#res.rsquared\n",
    "lm.summary()"
   ]
  },
  {
   "cell_type": "code",
   "execution_count": 27,
   "metadata": {
    "collapsed": false
   },
   "outputs": [
    {
     "data": {
      "text/plain": [
       "-22"
      ]
     },
     "execution_count": 27,
     "metadata": {},
     "output_type": "execute_result"
    }
   ],
   "source": [
    "\n",
    "max_val = max(df['DEPARTURE_DELAY'])\n",
    "max_val\n",
    "min_val = min(df['DEPARTURE_DELAY'])\n",
    "min_val"
   ]
  },
  {
   "cell_type": "code",
   "execution_count": 29,
   "metadata": {
    "collapsed": false
   },
   "outputs": [
    {
     "data": {
      "text/html": [
       "<div>\n",
       "<table border=\"1\" class=\"dataframe\">\n",
       "  <thead>\n",
       "    <tr style=\"text-align: right;\">\n",
       "      <th></th>\n",
       "      <th>DEPARTURE_DELAY</th>\n",
       "    </tr>\n",
       "  </thead>\n",
       "  <tbody>\n",
       "    <tr>\n",
       "      <th>0</th>\n",
       "      <td>-22</td>\n",
       "    </tr>\n",
       "    <tr>\n",
       "      <th>1</th>\n",
       "      <td>1988</td>\n",
       "    </tr>\n",
       "  </tbody>\n",
       "</table>\n",
       "</div>"
      ],
      "text/plain": [
       "   DEPARTURE_DELAY\n",
       "0              -22\n",
       "1             1988"
      ]
     },
     "execution_count": 29,
     "metadata": {},
     "output_type": "execute_result"
    }
   ],
   "source": [
    "X_new = pd.DataFrame({'DEPARTURE_DELAY': [df.DEPARTURE_DELAY.min(),df.DEPARTURE_DELAY.max()]})\n",
    "X_new.head()"
   ]
  },
  {
   "cell_type": "code",
   "execution_count": 30,
   "metadata": {
    "collapsed": false
   },
   "outputs": [
    {
     "data": {
      "text/plain": [
       "array([  -7.50975549, 1830.82247568])"
      ]
     },
     "execution_count": 30,
     "metadata": {},
     "output_type": "execute_result"
    }
   ],
   "source": [
    "# make predictions for those x values and store them\n",
    "preds = lm.predict(X_new)\n",
    "preds"
   ]
  },
  {
   "cell_type": "code",
   "execution_count": 47,
   "metadata": {
    "collapsed": false
   },
   "outputs": [
    {
     "data": {
      "text/plain": [
       "<matplotlib.axes._subplots.AxesSubplot at 0x11fde99e8>"
      ]
     },
     "execution_count": 47,
     "metadata": {},
     "output_type": "execute_result"
    },
    {
     "data": {
      "image/png": "[encoded data removed]",
      "text/plain": [
       "<matplotlib.figure.Figure at 0x11b3e6198>"
      ]
     },
     "metadata": {},
     "output_type": "display_data"
    }
   ],
   "source": [
    "#first plot the observed data\n",
    "df.plot(kind='scatter', x='DEPARTURE_DELAY', y='ARRIVAL_DELAY')\n",
    "#flights_data[['DEPARTURE_DELAY']].corr()\n",
    "#then, plot the least squares line\n",
    "#plt.plot(X_new,preds, c='red',linewidth=2)"
   ]
  },
  {
   "cell_type": "markdown",
   "metadata": {},
   "source": [
    "PLOTTING LEAST SQUARES LINE \n"
   ]
  },
  {
   "cell_type": "code",
   "execution_count": 114,
   "metadata": {
    "collapsed": false
   },
   "outputs": [
    {
     "data": {
      "text/plain": [
       "<matplotlib.axes._subplots.AxesSubplot at 0x134655fd0>"
      ]
     },
     "execution_count": 114,
     "metadata": {},
     "output_type": "execute_result"
    },
    {
     "data": {
      "image/png": "[encoded data removed]",
      "text/plain": [
       "<matplotlib.figure.Figure at 0x111b63588>"
      ]
     },
     "metadata": {},
     "output_type": "display_data"
    }
   ],
   "source": [
    "# first, plot the observed data\n",
    "df.plot(kind='scatter', x='DEPARTURE_DELAY', y='ARRIVAL_DELAY')\n",
    "\n",
    "\n",
    "# then, plot the least squares line\n",
    "plt.plot(X_new1, preds, c='green',linewidth=2)\n"
   ]
  },
  {
   "cell_type": "code",
   "execution_count": null,
   "metadata": {
    "collapsed": true
   },
   "outputs": [],
   "source": []
  }
 ],
 "metadata": {
  "kernelspec": {
   "display_name": "Python 3",
   "language": "python",
   "name": "python3"
  },
  "language_info": {
   "codemirror_mode": {
    "name": "ipython",
    "version": 3
   },
   "file_extension": ".py",
   "mimetype": "text/x-python",
   "name": "python",
   "nbconvert_exporter": "python",
   "pygments_lexer": "ipython3",
   "version": "3.6.0"
  }
 },
 "nbformat": 4,
 "nbformat_minor": 2
}
